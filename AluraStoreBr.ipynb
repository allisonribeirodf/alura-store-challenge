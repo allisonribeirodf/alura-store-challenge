{
  "nbformat": 4,
  "nbformat_minor": 0,
  "metadata": {
    "colab": {
      "provenance": [],
      "include_colab_link": true
    },
    "kernelspec": {
      "name": "python3",
      "display_name": "Python 3"
    },
    "language_info": {
      "name": "python"
    }
  },
  "cells": [
    {
      "cell_type": "markdown",
      "metadata": {
        "id": "view-in-github",
        "colab_type": "text"
      },
      "source": [
        "<a href=\"https://colab.research.google.com/github/allisonribeirodf/alura-store-challenge/blob/main/AluraStoreBr.ipynb\" target=\"_parent\"><img src=\"https://colab.research.google.com/assets/colab-badge.svg\" alt=\"Open In Colab\"/></a>"
      ]
    },
    {
      "cell_type": "markdown",
      "source": [
        "### Importação dos dados\n",
        "\n"
      ],
      "metadata": {
        "id": "RhEdWd9YUR6H"
      }
    },
    {
      "cell_type": "code",
      "execution_count": 93,
      "metadata": {
        "colab": {
          "base_uri": "https://localhost:8080/",
          "height": 310
        },
        "id": "T3EvaeQ_INIL",
        "outputId": "7f7d629c-886a-4e50-ec39-da7659f84d87"
      },
      "outputs": [
        {
          "output_type": "execute_result",
          "data": {
            "text/plain": [
              "                 Produto Categoria do Produto    Preço      Frete  \\\n",
              "0     Assistente virtual          eletronicos   219.08   9.249790   \n",
              "1         Mesa de jantar               moveis   256.35  11.234305   \n",
              "2      Jogo de tabuleiro           brinquedos   279.51  21.262681   \n",
              "3            Micro-ondas     eletrodomesticos  1009.99  54.667344   \n",
              "4  Cadeira de escritório               moveis   446.99  26.964689   \n",
              "\n",
              "  Data da Compra        Vendedor Local da compra  Avaliação da compra  \\\n",
              "0     16/01/2021     Pedro Gomes              SP                    4   \n",
              "1     18/05/2022  Beatriz Moraes              RJ                    1   \n",
              "2     15/03/2021      João Souza              DF                    1   \n",
              "3     03/05/2022      João Souza              RS                    4   \n",
              "4     07/11/2020   Larissa Alves              MG                    5   \n",
              "\n",
              "  Tipo de pagamento  Quantidade de parcelas    lat    lon     loja  \n",
              "0    cartao_credito                       8 -22.19 -48.79  Loja 01  \n",
              "1    cartao_credito                       4 -22.25 -42.66  Loja 01  \n",
              "2    cartao_credito                       1 -15.83 -47.86  Loja 01  \n",
              "3            boleto                       1 -30.17 -53.50  Loja 01  \n",
              "4            boleto                       1 -18.10 -44.38  Loja 01  "
            ],
            "text/html": [
              "\n",
              "  <div id=\"df-32b0e4ad-8a71-4744-bce7-2b1e172fff0e\" class=\"colab-df-container\">\n",
              "    <div>\n",
              "<style scoped>\n",
              "    .dataframe tbody tr th:only-of-type {\n",
              "        vertical-align: middle;\n",
              "    }\n",
              "\n",
              "    .dataframe tbody tr th {\n",
              "        vertical-align: top;\n",
              "    }\n",
              "\n",
              "    .dataframe thead th {\n",
              "        text-align: right;\n",
              "    }\n",
              "</style>\n",
              "<table border=\"1\" class=\"dataframe\">\n",
              "  <thead>\n",
              "    <tr style=\"text-align: right;\">\n",
              "      <th></th>\n",
              "      <th>Produto</th>\n",
              "      <th>Categoria do Produto</th>\n",
              "      <th>Preço</th>\n",
              "      <th>Frete</th>\n",
              "      <th>Data da Compra</th>\n",
              "      <th>Vendedor</th>\n",
              "      <th>Local da compra</th>\n",
              "      <th>Avaliação da compra</th>\n",
              "      <th>Tipo de pagamento</th>\n",
              "      <th>Quantidade de parcelas</th>\n",
              "      <th>lat</th>\n",
              "      <th>lon</th>\n",
              "      <th>loja</th>\n",
              "    </tr>\n",
              "  </thead>\n",
              "  <tbody>\n",
              "    <tr>\n",
              "      <th>0</th>\n",
              "      <td>Assistente virtual</td>\n",
              "      <td>eletronicos</td>\n",
              "      <td>219.08</td>\n",
              "      <td>9.249790</td>\n",
              "      <td>16/01/2021</td>\n",
              "      <td>Pedro Gomes</td>\n",
              "      <td>SP</td>\n",
              "      <td>4</td>\n",
              "      <td>cartao_credito</td>\n",
              "      <td>8</td>\n",
              "      <td>-22.19</td>\n",
              "      <td>-48.79</td>\n",
              "      <td>Loja 01</td>\n",
              "    </tr>\n",
              "    <tr>\n",
              "      <th>1</th>\n",
              "      <td>Mesa de jantar</td>\n",
              "      <td>moveis</td>\n",
              "      <td>256.35</td>\n",
              "      <td>11.234305</td>\n",
              "      <td>18/05/2022</td>\n",
              "      <td>Beatriz Moraes</td>\n",
              "      <td>RJ</td>\n",
              "      <td>1</td>\n",
              "      <td>cartao_credito</td>\n",
              "      <td>4</td>\n",
              "      <td>-22.25</td>\n",
              "      <td>-42.66</td>\n",
              "      <td>Loja 01</td>\n",
              "    </tr>\n",
              "    <tr>\n",
              "      <th>2</th>\n",
              "      <td>Jogo de tabuleiro</td>\n",
              "      <td>brinquedos</td>\n",
              "      <td>279.51</td>\n",
              "      <td>21.262681</td>\n",
              "      <td>15/03/2021</td>\n",
              "      <td>João Souza</td>\n",
              "      <td>DF</td>\n",
              "      <td>1</td>\n",
              "      <td>cartao_credito</td>\n",
              "      <td>1</td>\n",
              "      <td>-15.83</td>\n",
              "      <td>-47.86</td>\n",
              "      <td>Loja 01</td>\n",
              "    </tr>\n",
              "    <tr>\n",
              "      <th>3</th>\n",
              "      <td>Micro-ondas</td>\n",
              "      <td>eletrodomesticos</td>\n",
              "      <td>1009.99</td>\n",
              "      <td>54.667344</td>\n",
              "      <td>03/05/2022</td>\n",
              "      <td>João Souza</td>\n",
              "      <td>RS</td>\n",
              "      <td>4</td>\n",
              "      <td>boleto</td>\n",
              "      <td>1</td>\n",
              "      <td>-30.17</td>\n",
              "      <td>-53.50</td>\n",
              "      <td>Loja 01</td>\n",
              "    </tr>\n",
              "    <tr>\n",
              "      <th>4</th>\n",
              "      <td>Cadeira de escritório</td>\n",
              "      <td>moveis</td>\n",
              "      <td>446.99</td>\n",
              "      <td>26.964689</td>\n",
              "      <td>07/11/2020</td>\n",
              "      <td>Larissa Alves</td>\n",
              "      <td>MG</td>\n",
              "      <td>5</td>\n",
              "      <td>boleto</td>\n",
              "      <td>1</td>\n",
              "      <td>-18.10</td>\n",
              "      <td>-44.38</td>\n",
              "      <td>Loja 01</td>\n",
              "    </tr>\n",
              "  </tbody>\n",
              "</table>\n",
              "</div>\n",
              "    <div class=\"colab-df-buttons\">\n",
              "\n",
              "  <div class=\"colab-df-container\">\n",
              "    <button class=\"colab-df-convert\" onclick=\"convertToInteractive('df-32b0e4ad-8a71-4744-bce7-2b1e172fff0e')\"\n",
              "            title=\"Convert this dataframe to an interactive table.\"\n",
              "            style=\"display:none;\">\n",
              "\n",
              "  <svg xmlns=\"http://www.w3.org/2000/svg\" height=\"24px\" viewBox=\"0 -960 960 960\">\n",
              "    <path d=\"M120-120v-720h720v720H120Zm60-500h600v-160H180v160Zm220 220h160v-160H400v160Zm0 220h160v-160H400v160ZM180-400h160v-160H180v160Zm440 0h160v-160H620v160ZM180-180h160v-160H180v160Zm440 0h160v-160H620v160Z\"/>\n",
              "  </svg>\n",
              "    </button>\n",
              "\n",
              "  <style>\n",
              "    .colab-df-container {\n",
              "      display:flex;\n",
              "      gap: 12px;\n",
              "    }\n",
              "\n",
              "    .colab-df-convert {\n",
              "      background-color: #E8F0FE;\n",
              "      border: none;\n",
              "      border-radius: 50%;\n",
              "      cursor: pointer;\n",
              "      display: none;\n",
              "      fill: #1967D2;\n",
              "      height: 32px;\n",
              "      padding: 0 0 0 0;\n",
              "      width: 32px;\n",
              "    }\n",
              "\n",
              "    .colab-df-convert:hover {\n",
              "      background-color: #E2EBFA;\n",
              "      box-shadow: 0px 1px 2px rgba(60, 64, 67, 0.3), 0px 1px 3px 1px rgba(60, 64, 67, 0.15);\n",
              "      fill: #174EA6;\n",
              "    }\n",
              "\n",
              "    .colab-df-buttons div {\n",
              "      margin-bottom: 4px;\n",
              "    }\n",
              "\n",
              "    [theme=dark] .colab-df-convert {\n",
              "      background-color: #3B4455;\n",
              "      fill: #D2E3FC;\n",
              "    }\n",
              "\n",
              "    [theme=dark] .colab-df-convert:hover {\n",
              "      background-color: #434B5C;\n",
              "      box-shadow: 0px 1px 3px 1px rgba(0, 0, 0, 0.15);\n",
              "      filter: drop-shadow(0px 1px 2px rgba(0, 0, 0, 0.3));\n",
              "      fill: #FFFFFF;\n",
              "    }\n",
              "  </style>\n",
              "\n",
              "    <script>\n",
              "      const buttonEl =\n",
              "        document.querySelector('#df-32b0e4ad-8a71-4744-bce7-2b1e172fff0e button.colab-df-convert');\n",
              "      buttonEl.style.display =\n",
              "        google.colab.kernel.accessAllowed ? 'block' : 'none';\n",
              "\n",
              "      async function convertToInteractive(key) {\n",
              "        const element = document.querySelector('#df-32b0e4ad-8a71-4744-bce7-2b1e172fff0e');\n",
              "        const dataTable =\n",
              "          await google.colab.kernel.invokeFunction('convertToInteractive',\n",
              "                                                    [key], {});\n",
              "        if (!dataTable) return;\n",
              "\n",
              "        const docLinkHtml = 'Like what you see? Visit the ' +\n",
              "          '<a target=\"_blank\" href=https://colab.research.google.com/notebooks/data_table.ipynb>data table notebook</a>'\n",
              "          + ' to learn more about interactive tables.';\n",
              "        element.innerHTML = '';\n",
              "        dataTable['output_type'] = 'display_data';\n",
              "        await google.colab.output.renderOutput(dataTable, element);\n",
              "        const docLink = document.createElement('div');\n",
              "        docLink.innerHTML = docLinkHtml;\n",
              "        element.appendChild(docLink);\n",
              "      }\n",
              "    </script>\n",
              "  </div>\n",
              "\n",
              "\n",
              "    <div id=\"df-ba3bc54e-9caf-40c2-aaf1-b7711fb072ad\">\n",
              "      <button class=\"colab-df-quickchart\" onclick=\"quickchart('df-ba3bc54e-9caf-40c2-aaf1-b7711fb072ad')\"\n",
              "                title=\"Suggest charts\"\n",
              "                style=\"display:none;\">\n",
              "\n",
              "<svg xmlns=\"http://www.w3.org/2000/svg\" height=\"24px\"viewBox=\"0 0 24 24\"\n",
              "     width=\"24px\">\n",
              "    <g>\n",
              "        <path d=\"M19 3H5c-1.1 0-2 .9-2 2v14c0 1.1.9 2 2 2h14c1.1 0 2-.9 2-2V5c0-1.1-.9-2-2-2zM9 17H7v-7h2v7zm4 0h-2V7h2v10zm4 0h-2v-4h2v4z\"/>\n",
              "    </g>\n",
              "</svg>\n",
              "      </button>\n",
              "\n",
              "<style>\n",
              "  .colab-df-quickchart {\n",
              "      --bg-color: #E8F0FE;\n",
              "      --fill-color: #1967D2;\n",
              "      --hover-bg-color: #E2EBFA;\n",
              "      --hover-fill-color: #174EA6;\n",
              "      --disabled-fill-color: #AAA;\n",
              "      --disabled-bg-color: #DDD;\n",
              "  }\n",
              "\n",
              "  [theme=dark] .colab-df-quickchart {\n",
              "      --bg-color: #3B4455;\n",
              "      --fill-color: #D2E3FC;\n",
              "      --hover-bg-color: #434B5C;\n",
              "      --hover-fill-color: #FFFFFF;\n",
              "      --disabled-bg-color: #3B4455;\n",
              "      --disabled-fill-color: #666;\n",
              "  }\n",
              "\n",
              "  .colab-df-quickchart {\n",
              "    background-color: var(--bg-color);\n",
              "    border: none;\n",
              "    border-radius: 50%;\n",
              "    cursor: pointer;\n",
              "    display: none;\n",
              "    fill: var(--fill-color);\n",
              "    height: 32px;\n",
              "    padding: 0;\n",
              "    width: 32px;\n",
              "  }\n",
              "\n",
              "  .colab-df-quickchart:hover {\n",
              "    background-color: var(--hover-bg-color);\n",
              "    box-shadow: 0 1px 2px rgba(60, 64, 67, 0.3), 0 1px 3px 1px rgba(60, 64, 67, 0.15);\n",
              "    fill: var(--button-hover-fill-color);\n",
              "  }\n",
              "\n",
              "  .colab-df-quickchart-complete:disabled,\n",
              "  .colab-df-quickchart-complete:disabled:hover {\n",
              "    background-color: var(--disabled-bg-color);\n",
              "    fill: var(--disabled-fill-color);\n",
              "    box-shadow: none;\n",
              "  }\n",
              "\n",
              "  .colab-df-spinner {\n",
              "    border: 2px solid var(--fill-color);\n",
              "    border-color: transparent;\n",
              "    border-bottom-color: var(--fill-color);\n",
              "    animation:\n",
              "      spin 1s steps(1) infinite;\n",
              "  }\n",
              "\n",
              "  @keyframes spin {\n",
              "    0% {\n",
              "      border-color: transparent;\n",
              "      border-bottom-color: var(--fill-color);\n",
              "      border-left-color: var(--fill-color);\n",
              "    }\n",
              "    20% {\n",
              "      border-color: transparent;\n",
              "      border-left-color: var(--fill-color);\n",
              "      border-top-color: var(--fill-color);\n",
              "    }\n",
              "    30% {\n",
              "      border-color: transparent;\n",
              "      border-left-color: var(--fill-color);\n",
              "      border-top-color: var(--fill-color);\n",
              "      border-right-color: var(--fill-color);\n",
              "    }\n",
              "    40% {\n",
              "      border-color: transparent;\n",
              "      border-right-color: var(--fill-color);\n",
              "      border-top-color: var(--fill-color);\n",
              "    }\n",
              "    60% {\n",
              "      border-color: transparent;\n",
              "      border-right-color: var(--fill-color);\n",
              "    }\n",
              "    80% {\n",
              "      border-color: transparent;\n",
              "      border-right-color: var(--fill-color);\n",
              "      border-bottom-color: var(--fill-color);\n",
              "    }\n",
              "    90% {\n",
              "      border-color: transparent;\n",
              "      border-bottom-color: var(--fill-color);\n",
              "    }\n",
              "  }\n",
              "</style>\n",
              "\n",
              "      <script>\n",
              "        async function quickchart(key) {\n",
              "          const quickchartButtonEl =\n",
              "            document.querySelector('#' + key + ' button');\n",
              "          quickchartButtonEl.disabled = true;  // To prevent multiple clicks.\n",
              "          quickchartButtonEl.classList.add('colab-df-spinner');\n",
              "          try {\n",
              "            const charts = await google.colab.kernel.invokeFunction(\n",
              "                'suggestCharts', [key], {});\n",
              "          } catch (error) {\n",
              "            console.error('Error during call to suggestCharts:', error);\n",
              "          }\n",
              "          quickchartButtonEl.classList.remove('colab-df-spinner');\n",
              "          quickchartButtonEl.classList.add('colab-df-quickchart-complete');\n",
              "        }\n",
              "        (() => {\n",
              "          let quickchartButtonEl =\n",
              "            document.querySelector('#df-ba3bc54e-9caf-40c2-aaf1-b7711fb072ad button');\n",
              "          quickchartButtonEl.style.display =\n",
              "            google.colab.kernel.accessAllowed ? 'block' : 'none';\n",
              "        })();\n",
              "      </script>\n",
              "    </div>\n",
              "\n",
              "    </div>\n",
              "  </div>\n"
            ],
            "application/vnd.google.colaboratory.intrinsic+json": {
              "type": "dataframe",
              "variable_name": "loja",
              "summary": "{\n  \"name\": \"loja\",\n  \"rows\": 2359,\n  \"fields\": [\n    {\n      \"column\": \"Produto\",\n      \"properties\": {\n        \"dtype\": \"category\",\n        \"num_unique_values\": 51,\n        \"samples\": [\n          \"Viol\\u00e3o\",\n          \"Bola de basquete\",\n          \"Smartwatch\"\n        ],\n        \"semantic_type\": \"\",\n        \"description\": \"\"\n      }\n    },\n    {\n      \"column\": \"Categoria do Produto\",\n      \"properties\": {\n        \"dtype\": \"category\",\n        \"num_unique_values\": 8,\n        \"samples\": [\n          \"moveis\",\n          \"esporte e lazer\",\n          \"eletronicos\"\n        ],\n        \"semantic_type\": \"\",\n        \"description\": \"\"\n      }\n    },\n    {\n      \"column\": \"Pre\\u00e7o\",\n      \"properties\": {\n        \"dtype\": \"number\",\n        \"std\": 819.5827782539145,\n        \"min\": 10.07,\n        \"max\": 3969.38,\n        \"num_unique_values\": 2315,\n        \"samples\": [\n          446.11,\n          107.31,\n          65.86\n        ],\n        \"semantic_type\": \"\",\n        \"description\": \"\"\n      }\n    },\n    {\n      \"column\": \"Frete\",\n      \"properties\": {\n        \"dtype\": \"number\",\n        \"std\": 43.814183327408166,\n        \"min\": 0.0,\n        \"max\": 214.3770604781,\n        \"num_unique_values\": 2149,\n        \"samples\": [\n          83.815279607,\n          16.069664669,\n          14.0344876928\n        ],\n        \"semantic_type\": \"\",\n        \"description\": \"\"\n      }\n    },\n    {\n      \"column\": \"Data da Compra\",\n      \"properties\": {\n        \"dtype\": \"object\",\n        \"num_unique_values\": 1018,\n        \"samples\": [\n          \"15/09/2022\",\n          \"03/06/2020\",\n          \"06/11/2021\"\n        ],\n        \"semantic_type\": \"\",\n        \"description\": \"\"\n      }\n    },\n    {\n      \"column\": \"Vendedor\",\n      \"properties\": {\n        \"dtype\": \"category\",\n        \"num_unique_values\": 14,\n        \"samples\": [\n          \"Juliana Costa\",\n          \"Mariana Ferreira\",\n          \"Pedro Gomes\"\n        ],\n        \"semantic_type\": \"\",\n        \"description\": \"\"\n      }\n    },\n    {\n      \"column\": \"Local da compra\",\n      \"properties\": {\n        \"dtype\": \"category\",\n        \"num_unique_values\": 26,\n        \"samples\": [\n          \"TO\",\n          \"RN\",\n          \"SP\"\n        ],\n        \"semantic_type\": \"\",\n        \"description\": \"\"\n      }\n    },\n    {\n      \"column\": \"Avalia\\u00e7\\u00e3o da compra\",\n      \"properties\": {\n        \"dtype\": \"number\",\n        \"std\": 1,\n        \"min\": 1,\n        \"max\": 5,\n        \"num_unique_values\": 5,\n        \"samples\": [\n          1,\n          2,\n          5\n        ],\n        \"semantic_type\": \"\",\n        \"description\": \"\"\n      }\n    },\n    {\n      \"column\": \"Tipo de pagamento\",\n      \"properties\": {\n        \"dtype\": \"category\",\n        \"num_unique_values\": 4,\n        \"samples\": [\n          \"boleto\",\n          \"cartao_debito\",\n          \"cartao_credito\"\n        ],\n        \"semantic_type\": \"\",\n        \"description\": \"\"\n      }\n    },\n    {\n      \"column\": \"Quantidade de parcelas\",\n      \"properties\": {\n        \"dtype\": \"number\",\n        \"std\": 2,\n        \"min\": 1,\n        \"max\": 24,\n        \"num_unique_values\": 15,\n        \"samples\": [\n          7,\n          14,\n          8\n        ],\n        \"semantic_type\": \"\",\n        \"description\": \"\"\n      }\n    },\n    {\n      \"column\": \"lat\",\n      \"properties\": {\n        \"dtype\": \"number\",\n        \"std\": 5.372399916530833,\n        \"min\": -30.17,\n        \"max\": 1.41,\n        \"num_unique_values\": 26,\n        \"samples\": [\n          -9.46,\n          -5.81,\n          -22.19\n        ],\n        \"semantic_type\": \"\",\n        \"description\": \"\"\n      }\n    },\n    {\n      \"column\": \"lon\",\n      \"properties\": {\n        \"dtype\": \"number\",\n        \"std\": 4.183180020544179,\n        \"min\": -70.55,\n        \"max\": -36.59,\n        \"num_unique_values\": 26,\n        \"samples\": [\n          -48.26,\n          -36.59,\n          -48.79\n        ],\n        \"semantic_type\": \"\",\n        \"description\": \"\"\n      }\n    },\n    {\n      \"column\": \"loja\",\n      \"properties\": {\n        \"dtype\": \"category\",\n        \"num_unique_values\": 1,\n        \"samples\": [\n          \"Loja 01\"\n        ],\n        \"semantic_type\": \"\",\n        \"description\": \"\"\n      }\n    }\n  ]\n}"
            }
          },
          "metadata": {},
          "execution_count": 93
        }
      ],
      "source": [
        "import pandas as pd\n",
        "\n",
        "url = \"https://raw.githubusercontent.com/alura-es-cursos/challenge1-data-science/refs/heads/main/base-de-dados-challenge-1/loja_1.csv\"\n",
        "url2 = \"https://raw.githubusercontent.com/alura-es-cursos/challenge1-data-science/refs/heads/main/base-de-dados-challenge-1/loja_2.csv\"\n",
        "url3 = \"https://raw.githubusercontent.com/alura-es-cursos/challenge1-data-science/refs/heads/main/base-de-dados-challenge-1/loja_3.csv\"\n",
        "url4 = \"https://raw.githubusercontent.com/alura-es-cursos/challenge1-data-science/refs/heads/main/base-de-dados-challenge-1/loja_4.csv\"\n",
        "\n",
        "loja = pd.read_csv(url)\n",
        "loja2 = pd.read_csv(url2)\n",
        "loja3 = pd.read_csv(url3)\n",
        "loja4 = pd.read_csv(url4)\n",
        "\n",
        "loja[ \"loja\"] = \"Loja 01\"\n",
        "loja2[\"loja\"] = \"Loja 02\"\n",
        "loja3[\"loja\"] = \"Loja 03\"\n",
        "loja4[\"loja\"] = \"Loja 04\"\n",
        "\n",
        "df_all = pd.concat([loja, loja2, loja3, loja4], ignore_index=True)\n",
        "\n",
        "loja.head()"
      ]
    },
    {
      "cell_type": "markdown",
      "source": [
        "#1. Análise do faturamento\n"
      ],
      "metadata": {
        "id": "X62IW3KFUIYm"
      }
    },
    {
      "cell_type": "code",
      "source": [
        "import pandas as pd\n",
        "import matplotlib.pyplot as plt\n",
        "import matplotlib.ticker as ticker\n",
        "import numpy as np\n",
        "\n",
        "faturamentos = {\n",
        "    \"Loja 01\": loja[\"Preço\"].sum(),\n",
        "    \"Loja 02\": loja2[\"Preço\"].sum(),\n",
        "    \"Loja 03\": loja3[\"Preço\"].sum(),\n",
        "    \"Loja 04\": loja4[\"Preço\"].sum()\n",
        "}\n",
        "\n",
        "for nome, valor in faturamentos.items():\n",
        "    print(f\"Faturamento {nome}: R$ {valor:,.2f}\")\n"
      ],
      "metadata": {
        "id": "xykobSftV64I",
        "colab": {
          "base_uri": "https://localhost:8080/"
        },
        "outputId": "e9c104d1-cccd-4a07-cb97-3109a08dcfef"
      },
      "execution_count": 95,
      "outputs": [
        {
          "output_type": "stream",
          "name": "stdout",
          "text": [
            "Faturamento Loja 01: R$ 1,534,509.12\n",
            "Faturamento Loja 02: R$ 1,488,459.06\n",
            "Faturamento Loja 03: R$ 1,464,025.03\n",
            "Faturamento Loja 04: R$ 1,384,497.58\n"
          ]
        }
      ]
    },
    {
      "cell_type": "code",
      "source": [
        "df = (\n",
        "    pd.DataFrame.from_dict(faturamentos, orient=\"index\", columns=[\"Faturamento\"])\n",
        "      .reset_index()\n",
        "      .rename(columns={\"index\": \"Loja\"})\n",
        "      .sort_values(\"Faturamento\", ascending=False)\n",
        ")\n",
        "\n",
        "fig, ax = plt.subplots(figsize=(10, 6))\n",
        "\n",
        "bars = ax.bar(\n",
        "    df[\"Loja\"],\n",
        "    df[\"Faturamento\"],\n",
        "    width=0.6,\n",
        "    color=\"#1f77b4\",\n",
        "    edgecolor=\"black\"\n",
        ")\n",
        "\n",
        "step = 25000\n",
        "ymin = int(np.floor(df[\"Faturamento\"].min() / step) * step)\n",
        "ymax = int(np.ceil(df[\"Faturamento\"].max() / step) * step)\n",
        "ax.set_ylim(ymin, ymax)\n",
        "ax.yaxis.set_major_locator(ticker.MultipleLocator(step))\n",
        "ax.yaxis.set_major_formatter(ticker.StrMethodFormatter(\"R$ {x:,.0f}\"))\n",
        "\n",
        "ax.grid(False)\n",
        "for bar in bars:\n",
        "    h = bar.get_height()\n",
        "    ax.text(\n",
        "        bar.get_x() + bar.get_width() / 2,\n",
        "        h + step * 0.015,\n",
        "        f\"R$ {h:,.2f}\",\n",
        "        ha=\"center\",\n",
        "        va=\"bottom\",\n",
        "        fontsize=9\n",
        "    )\n",
        "\n",
        "ax.set_ylabel(\"Faturamento (R$)\")\n",
        "ax.set_title(\"Faturamento Total\")\n",
        "\n",
        "fig.tight_layout()\n",
        "plt.show()"
      ],
      "metadata": {
        "colab": {
          "base_uri": "https://localhost:8080/",
          "height": 607
        },
        "id": "bkBgD2hAHJqH",
        "outputId": "9c961768-18eb-41d3-ffab-a18766d90693"
      },
      "execution_count": 97,
      "outputs": [
        {
          "output_type": "display_data",
          "data": {
            "text/plain": [
              "<Figure size 1000x600 with 1 Axes>"
            ],
            "image/png": "[encoded data removed]"
          },
          "metadata": {}
        }
      ]
    },
    {
      "cell_type": "markdown",
      "source": [
        "# 2. Vendas por Categoria\n"
      ],
      "metadata": {
        "id": "2V_vcAPzWZmR"
      }
    },
    {
      "cell_type": "code",
      "source": [
        "mapa = {\n",
        "    \"Loja 01\": \"Loja 01\",\n",
        "    \"Loja 02\": \"Loja 02\",\n",
        "    \"Loja 03\": \"Loja 03\",\n",
        "    \"Loja 04\": \"Loja 04\"\n",
        "}\n",
        "\n",
        "for nome_loja, df_temp in vendas_loja_cat.groupby(\"loja\"):\n",
        "    rotulo = mapa.get(nome_loja, nome_loja)\n",
        "    print(f\"\\nQuantidade de vendas por categoria — {rotulo}:\")\n",
        "    print(f\"{'Categoria':<30}Quantidade\")\n",
        "    print(\"-\" * 45)\n",
        "\n",
        "    df_temp = df_temp.sort_values(\"Quantidade\", ascending=False)\n",
        "    for categoria, quantidade in zip(df_temp[\"Categoria do Produto\"], df_temp[\"Quantidade\"]):\n",
        "        print(f\"{categoria:<30}{quantidade} vendas\")"
      ],
      "metadata": {
        "id": "yZR6cOjXYSk1",
        "colab": {
          "base_uri": "https://localhost:8080/"
        },
        "outputId": "ae229671-c053-46c3-b831-bbf56aa46976"
      },
      "execution_count": 98,
      "outputs": [
        {
          "output_type": "stream",
          "name": "stdout",
          "text": [
            "\n",
            "Quantidade de vendas por categoria — Loja 01:\n",
            "Categoria                     Quantidade\n",
            "---------------------------------------------\n",
            "moveis                        465 vendas\n",
            "eletronicos                   448 vendas\n",
            "brinquedos                    324 vendas\n",
            "eletrodomesticos              312 vendas\n",
            "esporte e lazer               284 vendas\n",
            "instrumentos musicais         182 vendas\n",
            "livros                        173 vendas\n",
            "utilidades domesticas         171 vendas\n",
            "\n",
            "Quantidade de vendas por categoria — Loja 02:\n",
            "Categoria                     Quantidade\n",
            "---------------------------------------------\n",
            "moveis                        442 vendas\n",
            "eletronicos                   422 vendas\n",
            "brinquedos                    313 vendas\n",
            "eletrodomesticos              305 vendas\n",
            "esporte e lazer               275 vendas\n",
            "instrumentos musicais         224 vendas\n",
            "livros                        197 vendas\n",
            "utilidades domesticas         181 vendas\n",
            "\n",
            "Quantidade de vendas por categoria — Loja 03:\n",
            "Categoria                     Quantidade\n",
            "---------------------------------------------\n",
            "moveis                        499 vendas\n",
            "eletronicos                   451 vendas\n",
            "brinquedos                    315 vendas\n",
            "eletrodomesticos              278 vendas\n",
            "esporte e lazer               277 vendas\n",
            "livros                        185 vendas\n",
            "instrumentos musicais         177 vendas\n",
            "utilidades domesticas         177 vendas\n",
            "\n",
            "Quantidade de vendas por categoria — Loja 04:\n",
            "Categoria                     Quantidade\n",
            "---------------------------------------------\n",
            "moveis                        480 vendas\n",
            "eletronicos                   451 vendas\n",
            "brinquedos                    338 vendas\n",
            "esporte e lazer               277 vendas\n",
            "eletrodomesticos              254 vendas\n",
            "utilidades domesticas         201 vendas\n",
            "livros                        187 vendas\n",
            "instrumentos musicais         170 vendas\n"
          ]
        }
      ]
    },
    {
      "cell_type": "markdown",
      "source": [
        "# 3. Média de Avaliação das Lojas\n",
        "\n",
        "---\n",
        "\n"
      ],
      "metadata": {
        "id": "Rq6tU_xSY3jk"
      }
    },
    {
      "cell_type": "code",
      "source": [
        "def calcular_media_avaliacao(df_loja):\n",
        "    \"\"\"\n",
        "    Calcula a média das avaliações na coluna 'Avaliação da compra'.\n",
        "    Retorna 0 se não houver avaliações.\n",
        "    \"\"\"\n",
        "    qtd = df_loja[\"Avaliação da compra\"].count()\n",
        "    soma = df_loja[\"Avaliação da compra\"].sum()\n",
        "    return (soma / qtd) if qtd > 0 else 0\n",
        "\n",
        "medias = {\n",
        "    \"Loja 01\": calcular_media_avaliacao(loja),\n",
        "    \"Loja 02\": calcular_media_avaliacao(loja2),\n",
        "    \"Loja 03\": calcular_media_avaliacao(loja3),\n",
        "    \"Loja 04\": calcular_media_avaliacao(loja4)\n",
        "}\n",
        "\n",
        "for nome, media in medias.items():\n",
        "    print(f\"Média de avaliação da {nome}: {media:.2f}\")"
      ],
      "metadata": {
        "id": "bh3jjjJwY5MU",
        "colab": {
          "base_uri": "https://localhost:8080/"
        },
        "outputId": "634275dc-edc6-4863-b4f5-4d570fd01b8c"
      },
      "execution_count": 100,
      "outputs": [
        {
          "output_type": "stream",
          "name": "stdout",
          "text": [
            "Média de avaliação da Loja 01: 3.98\n",
            "Média de avaliação da Loja 02: 4.04\n",
            "Média de avaliação da Loja 03: 4.05\n",
            "Média de avaliação da Loja 04: 4.00\n"
          ]
        }
      ]
    },
    {
      "cell_type": "code",
      "source": [
        "def calcular_media_avaliacao(df_loja):\n",
        "    \"\"\"\n",
        "    Retorna a média da coluna 'Avaliação da compra'.\n",
        "    Se não houver avaliações, retorna 0.\n",
        "    \"\"\"\n",
        "    qtd = df_loja[\"Avaliação da compra\"].count()\n",
        "    soma = df_loja[\"Avaliação da compra\"].sum()\n",
        "    return (soma / qtd) if qtd > 0 else 0\n",
        "\n",
        "medias = {\n",
        "    \"Loja 01\": calcular_media_avaliacao(loja),\n",
        "    \"Loja 02\": calcular_media_avaliacao(loja2),\n",
        "    \"Loja 03\": calcular_media_avaliacao(loja3),\n",
        "    \"Loja 04\": calcular_media_avaliacao(loja4)\n",
        "}\n",
        "\n",
        "df_medias = (\n",
        "    pd.DataFrame.from_dict(medias, orient=\"index\", columns=[\"Avaliação Média\"])\n",
        "      .reset_index()\n",
        "      .rename(columns={\"index\": \"Loja\"})\n",
        ")\n",
        "\n",
        "fig, ax = plt.subplots(figsize=(8, 4))\n",
        "\n",
        "ax.plot(\n",
        "    df_medias[\"Loja\"],\n",
        "    df_medias[\"Avaliação Média\"],\n",
        "    marker=\"o\",\n",
        "    linestyle=\"-\",\n",
        "    color=\"tab:purple\",\n",
        "    linewidth=2,\n",
        "    markersize=8\n",
        ")\n",
        "\n",
        "for i, row in df_medias.iterrows():\n",
        "    ax.text(\n",
        "        row[\"Loja\"],\n",
        "        row[\"Avaliação Média\"] + 0.02,\n",
        "        f\"{row['Avaliação Média']:.2f}\",\n",
        "        ha=\"center\",\n",
        "        va=\"bottom\",\n",
        "        fontsize=9\n",
        "    )\n",
        "\n",
        "min_av = df_medias[\"Avaliação Média\"].min() - 0.1\n",
        "max_av = df_medias[\"Avaliação Média\"].max() + 0.1\n",
        "ax.set_ylim(min_av, max_av)\n",
        "\n",
        "ax.set_xlabel(\"Loja\")\n",
        "ax.set_ylabel(\"Avaliação Média\")\n",
        "ax.set_title(\"Média de Avaliação das Lojas\")\n",
        "\n",
        "ax.grid(axis=\"y\", linestyle=\"--\", alpha=0.4)\n",
        "ax.spines[\"top\"].set_visible(False)\n",
        "ax.spines[\"right\"].set_visible(False)\n",
        "\n",
        "plt.tight_layout()\n",
        "plt.show()"
      ],
      "metadata": {
        "id": "I0KkjPoTY88F",
        "colab": {
          "base_uri": "https://localhost:8080/",
          "height": 407
        },
        "outputId": "c70dfc0a-0761-4016-d648-2978d0939066"
      },
      "execution_count": 101,
      "outputs": [
        {
          "output_type": "display_data",
          "data": {
            "text/plain": [
              "<Figure size 800x400 with 1 Axes>"
            ],
            "image/png": "[encoded data removed]"
          },
          "metadata": {}
        }
      ]
    },
    {
      "cell_type": "markdown",
      "source": [
        "# 4. Produtos Mais e Menos Vendidos"
      ],
      "metadata": {
        "id": "DmNp1KPBZCm-"
      }
    },
    {
      "cell_type": "code",
      "source": [
        "vendas_produto = (\n",
        "    df_all\n",
        "      .groupby([\"loja\", \"Produto\"])\n",
        "      .size()\n",
        "      .reset_index(name=\"Contagem\")\n",
        ")\n",
        "\n",
        "for nome_loja, df_temp in vendas_produto.groupby(\"loja\"):\n",
        "    df_ord = df_temp.sort_values(\"Contagem\", ascending=False).reset_index(drop=True)\n",
        "\n",
        "    mais   = df_ord.loc[0]\n",
        "    menos  = df_ord.loc[df_ord.index[-1]]\n",
        "\n",
        "    print(f\"\\nLoja {nome_loja}:\")\n",
        "    print(f\"  ► Mais vendido:  {mais['Produto']} ({mais['Contagem']} vendas)\")\n",
        "    print(f\"  ► Menos vendido: {menos['Produto']} ({menos['Contagem']} vendas)\")"
      ],
      "metadata": {
        "id": "qoyjqijQZHfF",
        "colab": {
          "base_uri": "https://localhost:8080/"
        },
        "outputId": "9351e5e2-a49b-499d-bdcb-1685574de536"
      },
      "execution_count": 106,
      "outputs": [
        {
          "output_type": "stream",
          "name": "stdout",
          "text": [
            "\n",
            "Loja Loja 01:\n",
            "  ► Mais vendido:  TV Led UHD 4K (60 vendas)\n",
            "  ► Menos vendido: Headset (33 vendas)\n",
            "\n",
            "Loja Loja 02:\n",
            "  ► Mais vendido:  Iniciando em programação (65 vendas)\n",
            "  ► Menos vendido: Jogo de tabuleiro (32 vendas)\n",
            "\n",
            "Loja Loja 03:\n",
            "  ► Mais vendido:  Kit banquetas (57 vendas)\n",
            "  ► Menos vendido: Blocos de montar (35 vendas)\n",
            "\n",
            "Loja Loja 04:\n",
            "  ► Mais vendido:  Cama box (62 vendas)\n",
            "  ► Menos vendido: Guitarra (33 vendas)\n"
          ]
        }
      ]
    },
    {
      "cell_type": "markdown",
      "source": [
        "# 5. Frete Médio por Loja\n"
      ],
      "metadata": {
        "id": "Fl0cGi3bZKqU"
      }
    },
    {
      "cell_type": "code",
      "source": [
        "def media_frete(df):\n",
        "    return df[\"Frete\"].mean()\n",
        "\n",
        "fretes = {\n",
        "    \"Loja 01\": media_frete(loja),\n",
        "    \"Loja 02\": media_frete(loja2),\n",
        "    \"Loja 03\": media_frete(loja3),\n",
        "    \"Loja 04\": media_frete(loja4)\n",
        "}\n",
        "\n",
        "for nome, v in fretes.items():\n",
        "    print(f\"Frete médio da {nome}: R$ {v:.2f}\")"
      ],
      "metadata": {
        "id": "S2JeaCykZNy9",
        "colab": {
          "base_uri": "https://localhost:8080/"
        },
        "outputId": "e15e8577-fd17-46f5-fbef-9acfb6ed16d1"
      },
      "execution_count": 119,
      "outputs": [
        {
          "output_type": "stream",
          "name": "stdout",
          "text": [
            "Frete médio da Loja 01: R$ 34.69\n",
            "Frete médio da Loja 02: R$ 33.62\n",
            "Frete médio da Loja 03: R$ 33.07\n",
            "Frete médio da Loja 04: R$ 31.28\n"
          ]
        }
      ]
    },
    {
      "cell_type": "code",
      "source": [
        "df_f = pd.DataFrame({\n",
        "    \"Loja\": list(fretes.keys()),\n",
        "    \"Frete Médio\": list(fretes.values())\n",
        "})\n",
        "\n",
        "fig, ax = plt.subplots(figsize=(8, 4))\n",
        "\n",
        "ax.plot(\n",
        "    df_f[\"Loja\"],\n",
        "    df_f[\"Frete Médio\"],\n",
        "    linestyle=\"-\",\n",
        "    marker=\"o\",\n",
        "    linewidth=2,\n",
        "    color=\"blue\",\n",
        "    markerfacecolor=\"orange\",\n",
        "    markeredgecolor=\"black\",\n",
        "    markersize=8\n",
        ")\n",
        "\n",
        "for x, y in zip(df_f[\"Loja\"], df_f[\"Frete Médio\"]):\n",
        "    ax.text(\n",
        "        x, y + 0.2,\n",
        "        f\"R$ {y:.2f}\",\n",
        "        ha=\"center\", va=\"bottom\",\n",
        "        fontsize=9\n",
        "    )\n",
        "\n",
        "min_y = df_f[\"Frete Médio\"].min() - 1\n",
        "max_y = df_f[\"Frete Médio\"].max() + 1\n",
        "ax.set_ylim(min_y, max_y)\n",
        "\n",
        "ax.set_ylabel(\"Frete Médio (R$)\")\n",
        "ax.set_title(\"Média de Frete por Loja\")\n",
        "\n",
        "ax.grid(axis=\"y\", linestyle=\"--\", alpha=0.4)\n",
        "\n",
        "ax.spines[\"top\"].set_visible(False)\n",
        "ax.spines[\"right\"].set_visible(False)\n",
        "\n",
        "plt.tight_layout()\n",
        "plt.show()"
      ],
      "metadata": {
        "id": "0tSdCie9ZQlt",
        "colab": {
          "base_uri": "https://localhost:8080/",
          "height": 407
        },
        "outputId": "5ed21073-63f5-44d5-b4ea-ed82fbbdcac8"
      },
      "execution_count": 120,
      "outputs": [
        {
          "output_type": "display_data",
          "data": {
            "text/plain": [
              "<Figure size 800x400 with 1 Axes>"
            ],
            "image/png": "[encoded data removed]"
          },
          "metadata": {}
        }
      ]
    },
    {
      "cell_type": "markdown",
      "source": [
        "Após avaliar minuciosamente os indicadores de desempenho—onde a Loja 04 apresentou o menor faturamento e uma avaliação de clientes abaixo das demais—sugiro ao Sr. João que considere a venda da Loja 04, direcionando recursos para as unidades com resultados mais consistentes."
      ],
      "metadata": {
        "id": "JL4Gp8J9sSp6"
      }
    }
  ]
}